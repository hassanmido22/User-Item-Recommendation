{
 "cells": [
  {
   "attachments": {},
   "cell_type": "markdown",
   "metadata": {},
   "source": [
    "## Imports"
   ]
  },
  {
   "cell_type": "code",
   "execution_count": 1,
   "metadata": {},
   "outputs": [
    {
     "name": "stderr",
     "output_type": "stream",
     "text": [
      "[nltk_data] Downloading package stopwords to\n",
      "[nltk_data]     C:\\Users\\HasEAhmed\\AppData\\Roaming\\nltk_data...\n",
      "[nltk_data]   Package stopwords is already up-to-date!\n",
      "[nltk_data] Downloading package wordnet to\n",
      "[nltk_data]     C:\\Users\\HasEAhmed\\AppData\\Roaming\\nltk_data...\n",
      "[nltk_data]   Package wordnet is already up-to-date!\n",
      "[nltk_data] Downloading package omw-1.4 to\n",
      "[nltk_data]     C:\\Users\\HasEAhmed\\AppData\\Roaming\\nltk_data...\n",
      "[nltk_data]   Package omw-1.4 is already up-to-date!\n",
      "[nltk_data] Downloading package punkt to\n",
      "[nltk_data]     C:\\Users\\HasEAhmed\\AppData\\Roaming\\nltk_data...\n",
      "[nltk_data]   Package punkt is already up-to-date!\n"
     ]
    },
    {
     "data": {
      "text/plain": [
       "True"
      ]
     },
     "execution_count": 1,
     "metadata": {},
     "output_type": "execute_result"
    }
   ],
   "source": [
    "import pandas as pd\n",
    "import numpy as np\n",
    "from sklearn.preprocessing import LabelEncoder\n",
    "from sklearn.model_selection import train_test_split\n",
    "from sklearn.feature_extraction.text import TfidfVectorizer, CountVectorizer\n",
    "from sklearn.metrics.pairwise import linear_kernel, cosine_similarity, pairwise_distances, pairwise_kernels\n",
    "import matplotlib.pyplot as plt\n",
    "from pathlib import Path\n",
    "from sklearn.metrics import classification_report\n",
    "from sklearn.preprocessing import LabelEncoder\n",
    "import os\n",
    "import re\n",
    "import html\n",
    "import string\n",
    "import unicodedata\n",
    "import nltk\n",
    "from nltk.corpus import stopwords\n",
    "from nltk.stem import PorterStemmer, WordNetLemmatizer\n",
    "from nltk.tokenize import word_tokenize, sent_tokenize\n",
    "from tensorflow.keras import models, layers, optimizers, losses, regularizers, metrics\n",
    "from tensorflow.keras.datasets import imdb\n",
    "from tensorflow.keras.preprocessing.text import text_to_word_sequence, Tokenizer\n",
    "from tensorflow.keras.preprocessing.sequence import pad_sequences\n",
    "from tensorflow.keras.models import Model\n",
    "from tensorflow.keras.layers import Input, Embedding, Flatten, Dense, Concatenate, LSTM\n",
    "from tensorflow.keras.optimizers import Adam\n",
    "from tensorflow.keras.regularizers import l2\n",
    "from tensorflow.keras import callbacks\n",
    "from keras.utils import to_categorical\n",
    "from keras.layers import Dropout\n",
    "\n",
    "\n",
    "\n",
    "nltk.download('stopwords')\n",
    "nltk.download('wordnet')\n",
    "nltk.download('omw-1.4')\n",
    "nltk.download('punkt')\n"
   ]
  },
  {
   "attachments": {},
   "cell_type": "markdown",
   "metadata": {},
   "source": [
    "## functions"
   ]
  },
  {
   "cell_type": "code",
   "execution_count": 2,
   "metadata": {},
   "outputs": [],
   "source": [
    "def performance_results(model,features,y_actual):\n",
    "    # Predict on the dataset\n",
    "    y_pred = model.predict(features)\n",
    "\n",
    "    # Convert the predicted values to class labels\n",
    "    y_pred_classes = np.argmax(y_pred, axis=1)\n",
    "\n",
    "    # Convert the encoded labels back to their original categories\n",
    "    y_original = label_encoder.inverse_transform(y_actual)\n",
    "\n",
    "    # Convert the predicted class labels back to their original categories\n",
    "    y_pred_original = label_encoder.inverse_transform(y_pred_classes)\n",
    "\n",
    "    # Calculate accuracy\n",
    "    accuracy = np.mean(y_original == y_pred_original)\n",
    "    \n",
    "    report = classification_report(y_original, y_pred_original)\n",
    "\n",
    "    return y_pred_original,y_original,accuracy,report"
   ]
  },
  {
   "cell_type": "code",
   "execution_count": 3,
   "metadata": {},
   "outputs": [],
   "source": [
    "def remove_special_chars(text):\n",
    "    re1 = re.compile(r'  +')\n",
    "    x1 = text.lower().replace('#39;', \"'\").replace('amp;', '&').replace('#146;', \"'\").replace(\n",
    "        'nbsp;', ' ').replace('#36;', '$').replace('\\\\n', \"\\n\").replace('quot;', \"'\").replace(\n",
    "        '<br />', \"\\n\").replace('\\\\\"', '\"').replace('<unk>', 'u_n').replace(' @.@ ', '.').replace(\n",
    "        ' @-@ ', '-').replace('\\\\', ' \\\\ ')\n",
    "    return re1.sub(' ', html.unescape(x1))\n",
    "\n",
    "\n",
    "def remove_non_ascii(text):\n",
    "    \"\"\"Remove non-ASCII characters from list of tokenized words\"\"\"\n",
    "    return unicodedata.normalize('NFKD', text).encode('ascii', 'ignore').decode('utf-8', 'ignore')\n",
    "\n",
    "\n",
    "def to_lowercase(text):\n",
    "    return text.lower()\n",
    "\n",
    "\n",
    "\n",
    "def remove_punctuation(text):\n",
    "    \"\"\"Remove punctuation from list of tokenized words\"\"\"\n",
    "    translator = str.maketrans('', '', string.punctuation)\n",
    "    return text.translate(translator)\n",
    "\n",
    "\n",
    "def replace_numbers(text):\n",
    "    \"\"\"Replace all interger occurrences in list of tokenized words with textual representation\"\"\"\n",
    "    return re.sub(r'\\d+', '', text)\n",
    "\n",
    "\n",
    "def remove_whitespaces(text):\n",
    "    return text.strip()\n",
    "\n",
    "\n",
    "def remove_stopwords(words, stop_words):\n",
    "    \"\"\"\n",
    "    :param words:\n",
    "    :type words:\n",
    "    :param stop_words: from sklearn.feature_extraction.stop_words import ENGLISH_STOP_WORDS\n",
    "    or\n",
    "    from spacy.lang.en.stop_words import STOP_WORDS\n",
    "    :type stop_words:\n",
    "    :return:\n",
    "    :rtype:\n",
    "    \"\"\"\n",
    "    return [word for word in words if word not in stop_words]\n",
    "\n",
    "\n",
    "def stem_words(words):\n",
    "    \"\"\"Stem words in text\"\"\"\n",
    "    stemmer = PorterStemmer()\n",
    "    return [stemmer.stem(word) for word in words]\n",
    "\n",
    "def lemmatize_words(words):\n",
    "    \"\"\"Lemmatize words in text\"\"\"\n",
    "\n",
    "    lemmatizer = WordNetLemmatizer()\n",
    "    return [lemmatizer.lemmatize(word) for word in words]\n",
    "\n",
    "def lemmatize_verbs(words):\n",
    "    \"\"\"Lemmatize verbs in text\"\"\"\n",
    "\n",
    "    lemmatizer = WordNetLemmatizer()\n",
    "    return ' '.join([lemmatizer.lemmatize(word, pos='v') for word in words])\n",
    "\n",
    "def text2words(text):\n",
    "  return word_tokenize(text)\n",
    "\n",
    "def normalize_text( text):\n",
    "    text = remove_special_chars(text)\n",
    "    text = remove_non_ascii(text)\n",
    "    text = remove_punctuation(text)\n",
    "    text = to_lowercase(text)\n",
    "    text = replace_numbers(text)\n",
    "    words = text2words(text)\n",
    "    stop_words = stopwords.words('english')\n",
    "    words = remove_stopwords(words, stop_words)\n",
    "    \n",
    "    return ' '.join(words)\n",
    "\n",
    "def normalize_corpus(corpus):\n",
    "  return [normalize_text(t) for t in corpus]"
   ]
  },
  {
   "attachments": {},
   "cell_type": "markdown",
   "metadata": {},
   "source": [
    "## Data Perperation"
   ]
  },
  {
   "cell_type": "code",
   "execution_count": 4,
   "metadata": {},
   "outputs": [],
   "source": [
    "# Load the dataset\n",
    "df = pd.read_csv('../data/Dataset.csv')"
   ]
  },
  {
   "cell_type": "code",
   "execution_count": 5,
   "metadata": {},
   "outputs": [
    {
     "name": "stdout",
     "output_type": "stream",
     "text": [
      "<class 'pandas.core.frame.DataFrame'>\n",
      "RangeIndex: 541909 entries, 0 to 541908\n",
      "Data columns (total 8 columns):\n",
      " #   Column       Non-Null Count   Dtype  \n",
      "---  ------       --------------   -----  \n",
      " 0   InvoiceNo    541909 non-null  object \n",
      " 1   StockCode    541909 non-null  object \n",
      " 2   Description  540455 non-null  object \n",
      " 3   Quantity     541909 non-null  int64  \n",
      " 4   InvoiceDate  541909 non-null  object \n",
      " 5   UnitPrice    541909 non-null  float64\n",
      " 6   CustomerID   406829 non-null  float64\n",
      " 7   Country      541909 non-null  object \n",
      "dtypes: float64(2), int64(1), object(5)\n",
      "memory usage: 33.1+ MB\n"
     ]
    }
   ],
   "source": [
    "df.info()"
   ]
  },
  {
   "cell_type": "code",
   "execution_count": 6,
   "metadata": {},
   "outputs": [],
   "source": [
    "df['InvoiceDate'] = pd.to_datetime(df['InvoiceDate'])"
   ]
  },
  {
   "cell_type": "code",
   "execution_count": 7,
   "metadata": {},
   "outputs": [],
   "source": [
    "# Filter rows where 'stockcode' is not entirely characters\n",
    "df = df[~df['StockCode'].str.isalpha()]"
   ]
  },
  {
   "cell_type": "code",
   "execution_count": 8,
   "metadata": {},
   "outputs": [],
   "source": [
    "df['StockCode'] = df['StockCode'].apply(str.lower)"
   ]
  },
  {
   "cell_type": "code",
   "execution_count": 9,
   "metadata": {},
   "outputs": [],
   "source": [
    "df = df[df['Quantity'] > 0]"
   ]
  },
  {
   "cell_type": "code",
   "execution_count": 10,
   "metadata": {},
   "outputs": [
    {
     "name": "stdout",
     "output_type": "stream",
     "text": [
      "<class 'pandas.core.frame.DataFrame'>\n",
      "Int64Index: 529083 entries, 0 to 541908\n",
      "Data columns (total 8 columns):\n",
      " #   Column       Non-Null Count   Dtype         \n",
      "---  ------       --------------   -----         \n",
      " 0   InvoiceNo    529083 non-null  object        \n",
      " 1   StockCode    529083 non-null  object        \n",
      " 2   Description  528496 non-null  object        \n",
      " 3   Quantity     529083 non-null  int64         \n",
      " 4   InvoiceDate  529083 non-null  datetime64[ns]\n",
      " 5   UnitPrice    529083 non-null  float64       \n",
      " 6   CustomerID   396515 non-null  float64       \n",
      " 7   Country      529083 non-null  object        \n",
      "dtypes: datetime64[ns](1), float64(2), int64(1), object(4)\n",
      "memory usage: 36.3+ MB\n"
     ]
    }
   ],
   "source": [
    "df.info()"
   ]
  },
  {
   "cell_type": "code",
   "execution_count": 11,
   "metadata": {},
   "outputs": [],
   "source": [
    "df = df.drop_duplicates()"
   ]
  },
  {
   "cell_type": "code",
   "execution_count": 12,
   "metadata": {},
   "outputs": [],
   "source": [
    "null_percentage = df.isnull().mean() * 100"
   ]
  },
  {
   "cell_type": "code",
   "execution_count": 13,
   "metadata": {},
   "outputs": [
    {
     "data": {
      "text/plain": [
       "InvoiceNo       0.000000\n",
       "StockCode       0.000000\n",
       "Description     0.112053\n",
       "Quantity        0.000000\n",
       "InvoiceDate     0.000000\n",
       "UnitPrice       0.000000\n",
       "CustomerID     25.298698\n",
       "Country         0.000000\n",
       "dtype: float64"
      ]
     },
     "execution_count": 13,
     "metadata": {},
     "output_type": "execute_result"
    }
   ],
   "source": [
    "null_percentage"
   ]
  },
  {
   "cell_type": "code",
   "execution_count": 14,
   "metadata": {},
   "outputs": [],
   "source": [
    "def replace_nulls(group):\n",
    "    value_counts = group.value_counts()\n",
    "    if len(value_counts) > 0:\n",
    "        return group.fillna(value_counts.idxmax())\n",
    "    else:\n",
    "        return group\n",
    "\n",
    "df['CustomerID'] = df.groupby('CustomerID')['CustomerID'].transform(replace_nulls)"
   ]
  },
  {
   "cell_type": "code",
   "execution_count": 15,
   "metadata": {},
   "outputs": [],
   "source": [
    "null_percentage = df.isnull().mean() * 100"
   ]
  },
  {
   "cell_type": "code",
   "execution_count": 16,
   "metadata": {},
   "outputs": [
    {
     "data": {
      "text/plain": [
       "InvoiceNo       0.000000\n",
       "StockCode       0.000000\n",
       "Description     0.112053\n",
       "Quantity        0.000000\n",
       "InvoiceDate     0.000000\n",
       "UnitPrice       0.000000\n",
       "CustomerID     25.298698\n",
       "Country         0.000000\n",
       "dtype: float64"
      ]
     },
     "execution_count": 16,
     "metadata": {},
     "output_type": "execute_result"
    }
   ],
   "source": [
    "null_percentage"
   ]
  },
  {
   "cell_type": "code",
   "execution_count": 17,
   "metadata": {},
   "outputs": [],
   "source": [
    "df = df.dropna(subset=['CustomerID'])"
   ]
  },
  {
   "cell_type": "code",
   "execution_count": 18,
   "metadata": {},
   "outputs": [],
   "source": [
    "null_percentage = df.isnull().mean() * 100"
   ]
  },
  {
   "cell_type": "code",
   "execution_count": 19,
   "metadata": {},
   "outputs": [
    {
     "data": {
      "text/plain": [
       "InvoiceNo      0.0\n",
       "StockCode      0.0\n",
       "Description    0.0\n",
       "Quantity       0.0\n",
       "InvoiceDate    0.0\n",
       "UnitPrice      0.0\n",
       "CustomerID     0.0\n",
       "Country        0.0\n",
       "dtype: float64"
      ]
     },
     "execution_count": 19,
     "metadata": {},
     "output_type": "execute_result"
    }
   ],
   "source": [
    "null_percentage"
   ]
  },
  {
   "cell_type": "code",
   "execution_count": 20,
   "metadata": {},
   "outputs": [
    {
     "name": "stdout",
     "output_type": "stream",
     "text": [
      "<class 'pandas.core.frame.DataFrame'>\n",
      "Int64Index: 391328 entries, 0 to 541908\n",
      "Data columns (total 8 columns):\n",
      " #   Column       Non-Null Count   Dtype         \n",
      "---  ------       --------------   -----         \n",
      " 0   InvoiceNo    391328 non-null  object        \n",
      " 1   StockCode    391328 non-null  object        \n",
      " 2   Description  391328 non-null  object        \n",
      " 3   Quantity     391328 non-null  int64         \n",
      " 4   InvoiceDate  391328 non-null  datetime64[ns]\n",
      " 5   UnitPrice    391328 non-null  float64       \n",
      " 6   CustomerID   391328 non-null  float64       \n",
      " 7   Country      391328 non-null  object        \n",
      "dtypes: datetime64[ns](1), float64(2), int64(1), object(4)\n",
      "memory usage: 26.9+ MB\n"
     ]
    }
   ],
   "source": [
    "df.info()"
   ]
  },
  {
   "cell_type": "code",
   "execution_count": 21,
   "metadata": {},
   "outputs": [],
   "source": [
    "df.to_csv('../data/preprocessed_data_1.csv')"
   ]
  },
  {
   "attachments": {},
   "cell_type": "markdown",
   "metadata": {},
   "source": [
    "cleaning summary\n",
    "\n",
    "In this code, we started by loading a dataset called 'Dataset.csv', which contained important information for our analysis. We began by performing some initial data exploration and preprocessing steps to ensure the quality of the data.\n",
    "\n",
    "First, we converted the 'InvoiceDate' column to a datetime format to facilitate time-based analysis. We then focused on the 'StockCode' column and filtered out any rows that contained non-alphabetic characters. Additionally, we standardized the 'StockCode' values by converting them to lowercase for consistency.\n",
    "\n",
    "Next, we addressed issues related to the 'Quantity' column. We removed any rows where the quantity was less than or equal to zero, as negative or zero quantities would not provide meaningful insights for our analysis.\n",
    "\n",
    "Dealing with missing values was the next crucial step. We examined the dataset for null values and identified columns with missing data. For the 'CustomerID' column, we implemented a strategy to replace the missing values. We created a function, 'replace_nulls', which replaced null values in a group with the most frequent non-null value within that group. By applying this function to the 'CustomerID' column, we were able to fill in the missing values effectively.\n",
    "\n",
    "After filling the missing values, we conducted a final check to ensure that all null values had been addressed. The dataset was then deemed clean, and we proceeded to save the preprocessed data to a new CSV file named 'preprocessed_data_1.csv'.\n",
    "\n",
    "after that cleaning we are ready to go to the next step, data splitting and transformation"
   ]
  },
  {
   "attachments": {},
   "cell_type": "markdown",
   "metadata": {},
   "source": [
    "## Dataset Spliting and Transformation"
   ]
  },
  {
   "cell_type": "code",
   "execution_count": 22,
   "metadata": {},
   "outputs": [],
   "source": [
    "df_transformed = df.copy()\n",
    "\n",
    "# Fit and transform the user labels on the train data\n",
    "user_enc = LabelEncoder()\n",
    "df_transformed['CustomerID'] = user_enc.fit_transform(df_transformed.CustomerID.values)\n",
    "n_users = df_transformed['CustomerID'].nunique()\n",
    "\n",
    "# Fit and transform the item labels on the train data\n",
    "item_enc = LabelEncoder()\n",
    "df_transformed['StockCode'] = item_enc.fit_transform(df_transformed.StockCode.values)\n",
    "n_items = df_transformed['StockCode'].nunique()\n",
    "\n",
    "# Fit and transform the user labels on the train data\n",
    "conuntry_enc = LabelEncoder()\n",
    "df['Country'] = conuntry_enc.fit_transform(df_transformed.Country.values)\n",
    "n_countries = df_transformed['Country'].nunique()"
   ]
  },
  {
   "cell_type": "code",
   "execution_count": 23,
   "metadata": {},
   "outputs": [],
   "source": [
    "np.save('../encoder/user_enc_1.npy', user_enc.classes_)\n",
    "np.save('../encoder/item_enc_1.npy', item_enc.classes_)\n",
    "np.save('../encoder/conuntry_enc_1.npy', conuntry_enc.classes_)"
   ]
  },
  {
   "cell_type": "code",
   "execution_count": 24,
   "metadata": {},
   "outputs": [],
   "source": [
    "# Sort the DataFrame by the date column in ascending order\n",
    "df_transformed = df_transformed.sort_values('InvoiceDate')\n",
    "\n",
    "# Calculate the cutoff date for the test set\n",
    "test_cutoff = df_transformed['InvoiceDate'].max() - pd.DateOffset(months=2)\n",
    "\n",
    "# Split the data into training and testing sets\n",
    "train = df_transformed[df_transformed['InvoiceDate'] < test_cutoff]\n",
    "test = df_transformed[df_transformed['InvoiceDate'] >= test_cutoff]"
   ]
  },
  {
   "cell_type": "code",
   "execution_count": 25,
   "metadata": {},
   "outputs": [
    {
     "data": {
      "text/plain": [
       "0.7024593180145555"
      ]
     },
     "execution_count": 25,
     "metadata": {},
     "output_type": "execute_result"
    }
   ],
   "source": [
    "len(train)/(len(train)+len(test))"
   ]
  },
  {
   "cell_type": "code",
   "execution_count": 26,
   "metadata": {},
   "outputs": [],
   "source": [
    "# Grouping the dataset and calculating desired metrics\n",
    "train = train.groupby(['StockCode', 'Description', 'CustomerID', 'Country']).agg({\n",
    "    'Quantity': 'sum',\n",
    "    'UnitPrice': 'first',\n",
    "    'InvoiceNo': 'count'\n",
    "})\n",
    "\n",
    "# Rename the columns for clarity\n",
    "train = train.rename(columns={\n",
    "    'Quantity': 'total_quantity',\n",
    "    'UnitPrice': 'unit_price',\n",
    "    'InvoiceNo': 'number_of_orders'\n",
    "})\n",
    "\n",
    "# Calculate the total price\n",
    "train['total_price'] = train['total_quantity'] * train['unit_price']\n",
    "\n",
    "# Reset the index to make the grouped columns as regular columns\n",
    "train = train.reset_index()\n",
    "\n",
    "# Grouping the dataset and calculating desired metrics\n",
    "test = test.groupby(['StockCode', 'Description', 'CustomerID', 'Country']).agg({\n",
    "    'Quantity': 'sum',\n",
    "    'UnitPrice': 'first',\n",
    "    'InvoiceNo': 'count'\n",
    "})\n",
    "\n",
    "# Rename the columns for clarity\n",
    "test = test.rename(columns={\n",
    "    'Quantity': 'total_quantity',\n",
    "    'UnitPrice': 'unit_price',\n",
    "    'InvoiceNo': 'number_of_orders'\n",
    "})\n",
    "\n",
    "# Calculate the total price\n",
    "test['total_price'] = test['total_quantity'] * test['unit_price']\n",
    "\n",
    "# Reset the index to make the grouped columns as regular columns\n",
    "test = test.reset_index()"
   ]
  },
  {
   "attachments": {},
   "cell_type": "markdown",
   "metadata": {},
   "source": [
    "## Feature Engineering and Modeling"
   ]
  },
  {
   "cell_type": "code",
   "execution_count": 27,
   "metadata": {},
   "outputs": [],
   "source": [
    "# Define the relevancy categories and their corresponding bins\n",
    "relevancy_categories = ['Low', 'Medium', 'High']\n",
    "relevancy_bins = [0, 2, 5, float('inf')]\n",
    "\n",
    "# Convert the \"number of orders\" column to the categorical feature\n",
    "train['relevancy'] = pd.cut(train['number_of_orders'], bins=relevancy_bins, labels=relevancy_categories, right=False)\n",
    "\n",
    "# Convert the \"number of orders\" column to the categorical feature\n",
    "test['relevancy'] = pd.cut(test['number_of_orders'], bins=relevancy_bins, labels=relevancy_categories, right=False)"
   ]
  },
  {
   "cell_type": "code",
   "execution_count": 28,
   "metadata": {},
   "outputs": [
    {
     "data": {
      "text/plain": [
       "Low       156065\n",
       "Medium     37528\n",
       "High        4140\n",
       "Name: relevancy, dtype: int64"
      ]
     },
     "execution_count": 28,
     "metadata": {},
     "output_type": "execute_result"
    }
   ],
   "source": [
    "train['relevancy'].value_counts()"
   ]
  },
  {
   "cell_type": "code",
   "execution_count": 896,
   "metadata": {},
   "outputs": [],
   "source": [
    "label_column =  'relevancy'\n",
    "\n",
    "input_columns = ['CustomerID', 'StockCode','total_quantity','total_price']"
   ]
  },
  {
   "cell_type": "code",
   "execution_count": 897,
   "metadata": {},
   "outputs": [],
   "source": [
    "X_train = train[input_columns].values\n",
    "y_train = train[label_column].values\n",
    "\n",
    "X_test = test[input_columns].values\n",
    "y_test = test[label_column].values"
   ]
  },
  {
   "cell_type": "code",
   "execution_count": 898,
   "metadata": {},
   "outputs": [],
   "source": [
    "# Create an instance of LabelEncoder\n",
    "label_encoder = LabelEncoder()\n",
    "\n",
    "# Fit label encoder on y_train\n",
    "label_encoder.fit(y_train)\n",
    "\n",
    "# Transform y_train to model representation\n",
    "y_train_encoded = label_encoder.transform(y_train)\n",
    "\n",
    "# Transform y_test to model representation\n",
    "y_test_encoded = label_encoder.transform(y_test)"
   ]
  },
  {
   "cell_type": "code",
   "execution_count": 899,
   "metadata": {},
   "outputs": [],
   "source": [
    "\n",
    "# Perform one-hot encoding on y_train_encoded\n",
    "y_train_encoded_onehot = to_categorical(y_train_encoded)\n",
    "y_test_encoded_onehot = to_categorical(y_test_encoded)"
   ]
  },
  {
   "cell_type": "code",
   "execution_count": 803,
   "metadata": {},
   "outputs": [],
   "source": [
    "# Number of latent factors\n",
    "emb_sz = 32\n",
    "\n",
    "# User embeddings\n",
    "user = layers.Input(shape=(1,), name='user_id')\n",
    "user_emb = layers.Embedding(n_users, emb_sz, embeddings_regularizer=regularizers.l2(1e-6), name='user_embedding_LUT')(user)\n",
    "user_emb = layers.Reshape((emb_sz,))(user_emb)\n",
    "\n",
    "# User bias\n",
    "user_bias = layers.Embedding(n_users, 1)(user)\n",
    "user_bias = layers.Reshape((1,))(user_bias)\n",
    "\n",
    "# item embeddings\n",
    "item = layers.Input(shape=(1,), name='item_id')\n",
    "item_emb = layers.Embedding(n_items, emb_sz, embeddings_regularizer=regularizers.l2(1e-6), name='item_embedding_LUT')(item)\n",
    "item_emb = layers.Reshape((emb_sz,))(item_emb)\n",
    "\n",
    "# item bias\n",
    "item_bias = layers.Embedding(n_items, 1)(item)\n",
    "item_bias = layers.Reshape((1,))(item_bias)\n",
    "\n",
    "#other features\n",
    "total_quantity = Input(shape=(1,))\n",
    "total_price = Input(shape=(1,))\n",
    "\n",
    "# Dot product\n",
    "relevancy = layers.Concatenate()([user_emb, item_emb, total_quantity, total_price, user_bias, item_bias])\n",
    "\n",
    "# Add biases\n",
    "relevancy = layers.Dense(100, activation='relu')(relevancy)\n",
    "relevancy = layers.Dense(3, activation='softmax', name='relevancy')(relevancy)\n",
    "\n",
    "# Model\n",
    "model_3 = models.Model(inputs=[user, item, total_quantity, total_price], outputs=relevancy)"
   ]
  },
  {
   "cell_type": "code",
   "execution_count": 804,
   "metadata": {},
   "outputs": [
    {
     "name": "stdout",
     "output_type": "stream",
     "text": [
      "Epoch 1/20\n"
     ]
    },
    {
     "name": "stderr",
     "output_type": "stream",
     "text": [
      "c:\\Users\\HasEAhmed\\Anaconda3\\lib\\site-packages\\keras\\optimizers\\optimizer_v2\\adam.py:110: UserWarning: The `lr` argument is deprecated, use `learning_rate` instead.\n",
      "  super(Adam, self).__init__(name, **kwargs)\n"
     ]
    },
    {
     "name": "stdout",
     "output_type": "stream",
     "text": [
      "2652/2652 [==============================] - 9s 3ms/step - loss: 0.6797 - accuracy: 0.8270 - val_loss: 0.4859 - val_accuracy: 0.8306\n",
      "Epoch 2/20\n",
      "2652/2652 [==============================] - 8s 3ms/step - loss: 0.4713 - accuracy: 0.8679 - val_loss: 0.6640 - val_accuracy: 0.8168\n",
      "Epoch 3/20\n",
      "2652/2652 [==============================] - 8s 3ms/step - loss: 0.5367 - accuracy: 0.8783 - val_loss: 0.4446 - val_accuracy: 0.8345\n",
      "Epoch 4/20\n",
      "2652/2652 [==============================] - 8s 3ms/step - loss: 0.4900 - accuracy: 0.8909 - val_loss: 0.4667 - val_accuracy: 0.8333\n",
      "Epoch 5/20\n",
      "2652/2652 [==============================] - 7s 3ms/step - loss: 0.4163 - accuracy: 0.8956 - val_loss: 0.4399 - val_accuracy: 0.8366\n",
      "Epoch 6/20\n",
      "2652/2652 [==============================] - 7s 3ms/step - loss: 0.4174 - accuracy: 0.9006 - val_loss: 0.4658 - val_accuracy: 0.8306\n",
      "Epoch 7/20\n",
      "2652/2652 [==============================] - 8s 3ms/step - loss: 0.4565 - accuracy: 0.9056 - val_loss: 0.5079 - val_accuracy: 0.8063\n",
      "Epoch 8/20\n",
      "2652/2652 [==============================] - 7s 3ms/step - loss: 0.4796 - accuracy: 0.9068 - val_loss: 0.5817 - val_accuracy: 0.8020\n",
      "Epoch 9/20\n",
      "2652/2652 [==============================] - 8s 3ms/step - loss: 0.4152 - accuracy: 0.9081 - val_loss: 0.5581 - val_accuracy: 0.8141\n",
      "Epoch 10/20\n",
      "2652/2652 [==============================] - 7s 3ms/step - loss: 0.4741 - accuracy: 0.9098 - val_loss: 0.5767 - val_accuracy: 0.8159\n",
      "Epoch 11/20\n",
      "2652/2652 [==============================] - 7s 3ms/step - loss: 0.2895 - accuracy: 0.9177 - val_loss: 0.5222 - val_accuracy: 0.8124\n",
      "Epoch 12/20\n",
      "2652/2652 [==============================] - 7s 3ms/step - loss: 0.3878 - accuracy: 0.9147 - val_loss: 0.5389 - val_accuracy: 0.8194\n",
      "Epoch 13/20\n",
      "2652/2652 [==============================] - 7s 3ms/step - loss: 0.4415 - accuracy: 0.9182 - val_loss: 0.5715 - val_accuracy: 0.8264\n",
      "Epoch 14/20\n",
      "2652/2652 [==============================] - 7s 3ms/step - loss: 0.4268 - accuracy: 0.9202 - val_loss: 0.5608 - val_accuracy: 0.8215\n",
      "Epoch 15/20\n",
      "2652/2652 [==============================] - 8s 3ms/step - loss: 0.4220 - accuracy: 0.9216 - val_loss: 0.5502 - val_accuracy: 0.8195\n",
      "Epoch 16/20\n",
      "2652/2652 [==============================] - 8s 3ms/step - loss: 0.4403 - accuracy: 0.9245 - val_loss: 0.6013 - val_accuracy: 0.8164\n",
      "Epoch 17/20\n",
      "2652/2652 [==============================] - 8s 3ms/step - loss: 0.4532 - accuracy: 0.9264 - val_loss: 3.0704 - val_accuracy: 0.8097\n",
      "Epoch 18/20\n",
      "2652/2652 [==============================] - 7s 3ms/step - loss: 0.5351 - accuracy: 0.9247 - val_loss: 0.5780 - val_accuracy: 0.8127\n",
      "Epoch 19/20\n",
      "2652/2652 [==============================] - 7s 3ms/step - loss: 0.5742 - accuracy: 0.9222 - val_loss: 0.5971 - val_accuracy: 0.8185\n",
      "Epoch 20/20\n",
      "2652/2652 [==============================] - 8s 3ms/step - loss: 0.6373 - accuracy: 0.9266 - val_loss: 0.6211 - val_accuracy: 0.8176\n"
     ]
    }
   ],
   "source": [
    "# Compile the model\n",
    "model_3.compile(loss='categorical_crossentropy', optimizer=optimizers.Adam(lr=0.001), metrics=['accuracy'])\n",
    "\n",
    "history_3 = model_3.fit(x=[X_train[:, 0], X_train[:, 1], X_train[:, 2], X_train[:, 3]], y=y_train_encoded_onehot,\n",
    "                    batch_size=64, epochs=20,\n",
    "                    validation_split=0.2)"
   ]
  },
  {
   "cell_type": "code",
   "execution_count": 805,
   "metadata": {},
   "outputs": [
    {
     "data": {
      "image/png": "[encoded data removed]",
      "text/plain": [
       "<Figure size 640x480 with 1 Axes>"
      ]
     },
     "metadata": {},
     "output_type": "display_data"
    }
   ],
   "source": [
    "loss = history_3.history['loss']\n",
    "val_loss = history_3.history['val_loss']\n",
    "\n",
    "epochs = range(1, len(loss) + 1)\n",
    "\n",
    "# \"bo\" is for \"blue dot\"\n",
    "plt.plot(epochs, loss, 'b', label='Training loss')\n",
    "# b is for \"solid blue line\"\n",
    "plt.plot(epochs, val_loss, 'r', label='Validation loss')\n",
    "plt.title('Training and validation loss')\n",
    "plt.xlabel('Epochs')\n",
    "plt.ylabel('Loss')\n",
    "plt.legend()\n",
    "\n",
    "plt.show()\n"
   ]
  },
  {
   "cell_type": "code",
   "execution_count": 806,
   "metadata": {},
   "outputs": [
    {
     "data": {
      "image/png": "[encoded data removed]",
      "text/plain": [
       "<Figure size 640x480 with 1 Axes>"
      ]
     },
     "metadata": {},
     "output_type": "display_data"
    }
   ],
   "source": [
    "\n",
    "plt.clf()   # clear figure\n",
    "acc_values = history_3.history['accuracy']\n",
    "val_acc_values = history_3.history['val_accuracy']\n",
    "\n",
    "plt.plot(epochs, acc_values, 'b', label='Training acc')\n",
    "plt.plot(epochs, val_acc_values, 'r', label='Validation acc')\n",
    "plt.title('Training and validation accuracy')\n",
    "plt.xlabel('Epochs')\n",
    "plt.ylabel('Loss')\n",
    "plt.legend()\n",
    "\n",
    "plt.show()"
   ]
  },
  {
   "cell_type": "code",
   "execution_count": 835,
   "metadata": {},
   "outputs": [
    {
     "name": "stdout",
     "output_type": "stream",
     "text": [
      "6629/6629 [==============================] - 11s 2ms/step\n",
      "Predicted labels: ['Low' 'Low' 'Medium' ... 'Low' 'Low' 'Low']\n",
      "True labels: ['Low' 'Low' 'Low' ... 'Low' 'Low' 'Low']\n",
      "Accuracy: 0.9174917491749175\n",
      "              precision    recall  f1-score   support\n",
      "\n",
      "        High       0.69      0.78      0.73      4817\n",
      "         Low       0.95      0.96      0.95    166534\n",
      "      Medium       0.82      0.75      0.78     40749\n",
      "\n",
      "    accuracy                           0.92    212100\n",
      "   macro avg       0.82      0.83      0.82    212100\n",
      "weighted avg       0.92      0.92      0.92    212100\n",
      "\n"
     ]
    }
   ],
   "source": [
    "y_pred_original_train,y_train_original,accuracy,report = performance_results(model_3,[X_train[:, 0], X_train[:, 1], X_train[:, 2], X_train[:, 3]],y_train_encoded)\n",
    "# Print the prediction results and accuracy\n",
    "print(\"Predicted labels:\", y_pred_original_train)\n",
    "print(\"True labels:\", y_train_original)\n",
    "print(\"Accuracy:\", accuracy)\n",
    "print(report)"
   ]
  },
  {
   "cell_type": "code",
   "execution_count": 836,
   "metadata": {},
   "outputs": [
    {
     "name": "stdout",
     "output_type": "stream",
     "text": [
      "1599/1599 [==============================] - 3s 2ms/step\n",
      "Predicted labels: ['Low' 'Low' 'Low' ... 'Medium' 'Low' 'Low']\n",
      "True labels: ['Low' 'Low' 'Low' ... 'Low' 'Low' 'Low']\n",
      "Accuracy: 0.8416472750738184\n",
      "              precision    recall  f1-score   support\n",
      "\n",
      "        High       0.24      0.77      0.36       298\n",
      "         Low       0.94      0.89      0.91     45194\n",
      "      Medium       0.36      0.49      0.41      5647\n",
      "\n",
      "    accuracy                           0.84     51139\n",
      "   macro avg       0.51      0.72      0.56     51139\n",
      "weighted avg       0.88      0.84      0.86     51139\n",
      "\n"
     ]
    }
   ],
   "source": [
    "y_pred_original_test,y_test_original,accuracy,report = performance_results(model_3,[X_test[:, 0], X_test[:, 1], X_test[:, 2], X_test[:, 3]],y_test_encoded)\n",
    "# Print the prediction results and accuracy\n",
    "print(\"Predicted labels:\", y_pred_original_test)\n",
    "print(\"True labels:\", y_test_original)\n",
    "print(\"Accuracy:\", accuracy)\n",
    "print(report)"
   ]
  },
  {
   "attachments": {},
   "cell_type": "markdown",
   "metadata": {},
   "source": [
    "update on the architecture (adding dropout layers)"
   ]
  },
  {
   "cell_type": "code",
   "execution_count": 814,
   "metadata": {},
   "outputs": [],
   "source": [
    "\n",
    "emb_sz = 64\n",
    "\n",
    "# User embeddings\n",
    "user = layers.Input(shape=(1,), name='user_id')\n",
    "user_emb = layers.Embedding(n_users, emb_sz, embeddings_regularizer=regularizers.l2(1e-6), name='user_embedding_LUT')(user)\n",
    "user_emb = layers.Reshape((emb_sz,))(user_emb)\n",
    "user_emb = Dropout(0.2)(user_emb)  # Adding dropout\n",
    "\n",
    "# User bias\n",
    "user_bias = layers.Embedding(n_users, 1)(user)\n",
    "user_bias = layers.Reshape((1,))(user_bias)\n",
    "\n",
    "# Item embeddings\n",
    "item = layers.Input(shape=(1,), name='item_id')\n",
    "item_emb = layers.Embedding(n_items, emb_sz, embeddings_regularizer=regularizers.l2(1e-6), name='item_embedding_LUT')(item)\n",
    "item_emb = layers.Reshape((emb_sz,))(item_emb)\n",
    "item_emb = Dropout(0.2)(item_emb)  # Adding dropout\n",
    "\n",
    "# Item bias\n",
    "item_bias = layers.Embedding(n_items, 1)(item)\n",
    "item_bias = layers.Reshape((1,))(item_bias)\n",
    "\n",
    "# Other features\n",
    "total_quantity = Input(shape=(1,))\n",
    "total_price = Input(shape=(1,))\n",
    "total_quantity_dp = Dropout(0.2)(total_quantity)  # Adding dropout\n",
    "total_price_dp = Dropout(0.2)(total_price)  # Adding dropout\n",
    "\n",
    "# Dot product\n",
    "relevancy = layers.Concatenate()([user_emb, item_emb, total_quantity_dp, total_price_dp, user_bias, item_bias])\n",
    "\n",
    "# Add biases\n",
    "relevancy = layers.Dense(100, activation='relu')(relevancy)\n",
    "relevancy = Dropout(0.2)(relevancy)  # Adding dropout\n",
    "relevancy = layers.Dense(3, activation='softmax', name='relevancy')(relevancy)\n",
    "\n",
    "# Model\n",
    "model_3_drop = models.Model(inputs=[user, item, total_quantity, total_price], outputs=relevancy)\n"
   ]
  },
  {
   "cell_type": "code",
   "execution_count": 815,
   "metadata": {},
   "outputs": [
    {
     "name": "stdout",
     "output_type": "stream",
     "text": [
      "Epoch 1/20\n",
      "2652/2652 [==============================] - 10s 4ms/step - loss: 0.8135 - accuracy: 0.8041 - val_loss: 0.5077 - val_accuracy: 0.8281\n",
      "Epoch 2/20\n",
      "2652/2652 [==============================] - 9s 3ms/step - loss: 0.4269 - accuracy: 0.8498 - val_loss: 0.4073 - val_accuracy: 0.8420\n",
      "Epoch 3/20\n",
      "2652/2652 [==============================] - 9s 3ms/step - loss: 0.3544 - accuracy: 0.8621 - val_loss: 0.3739 - val_accuracy: 0.8478\n",
      "Epoch 4/20\n",
      "2652/2652 [==============================] - 9s 3ms/step - loss: 0.3330 - accuracy: 0.8703 - val_loss: 0.3929 - val_accuracy: 0.8336\n",
      "Epoch 5/20\n",
      "2652/2652 [==============================] - 10s 4ms/step - loss: 0.3239 - accuracy: 0.8752 - val_loss: 0.3889 - val_accuracy: 0.8298\n",
      "Epoch 6/20\n",
      "2652/2652 [==============================] - 9s 3ms/step - loss: 0.3089 - accuracy: 0.8801 - val_loss: 0.3821 - val_accuracy: 0.8265\n",
      "Epoch 7/20\n",
      "2652/2652 [==============================] - 9s 3ms/step - loss: 0.3048 - accuracy: 0.8808 - val_loss: 0.4021 - val_accuracy: 0.8176\n",
      "Epoch 8/20\n",
      "2652/2652 [==============================] - 9s 4ms/step - loss: 0.2971 - accuracy: 0.8847 - val_loss: 0.3881 - val_accuracy: 0.8298\n",
      "Epoch 9/20\n",
      "2652/2652 [==============================] - 9s 4ms/step - loss: 0.2909 - accuracy: 0.8873 - val_loss: 0.4013 - val_accuracy: 0.8234\n",
      "Epoch 10/20\n",
      "2652/2652 [==============================] - 9s 3ms/step - loss: 0.2933 - accuracy: 0.8879 - val_loss: 0.3904 - val_accuracy: 0.8294\n",
      "Epoch 11/20\n",
      "2652/2652 [==============================] - 9s 3ms/step - loss: 0.2874 - accuracy: 0.8904 - val_loss: 0.3765 - val_accuracy: 0.8349\n",
      "Epoch 12/20\n",
      "2652/2652 [==============================] - 9s 3ms/step - loss: 0.2806 - accuracy: 0.8931 - val_loss: 0.4134 - val_accuracy: 0.8149\n",
      "Epoch 13/20\n",
      "2652/2652 [==============================] - 9s 3ms/step - loss: 0.2785 - accuracy: 0.8932 - val_loss: 0.4019 - val_accuracy: 0.8244\n",
      "Epoch 14/20\n",
      "2652/2652 [==============================] - 9s 4ms/step - loss: 0.2737 - accuracy: 0.8951 - val_loss: 0.4050 - val_accuracy: 0.8228\n",
      "Epoch 15/20\n",
      "2652/2652 [==============================] - 9s 3ms/step - loss: 0.2732 - accuracy: 0.8962 - val_loss: 0.4092 - val_accuracy: 0.8212\n",
      "Epoch 16/20\n",
      "2652/2652 [==============================] - 9s 3ms/step - loss: 0.2673 - accuracy: 0.8971 - val_loss: 0.4081 - val_accuracy: 0.8201\n",
      "Epoch 17/20\n",
      "2652/2652 [==============================] - 9s 3ms/step - loss: 0.2677 - accuracy: 0.8983 - val_loss: 0.4232 - val_accuracy: 0.8128\n",
      "Epoch 18/20\n",
      "2652/2652 [==============================] - 9s 3ms/step - loss: 0.2622 - accuracy: 0.9001 - val_loss: 0.4088 - val_accuracy: 0.8271\n",
      "Epoch 19/20\n",
      "2652/2652 [==============================] - 9s 3ms/step - loss: 0.2603 - accuracy: 0.9011 - val_loss: 0.4210 - val_accuracy: 0.8199\n",
      "Epoch 20/20\n",
      "2652/2652 [==============================] - 9s 3ms/step - loss: 0.2626 - accuracy: 0.9011 - val_loss: 0.4159 - val_accuracy: 0.8244\n"
     ]
    }
   ],
   "source": [
    "# Compile the model\n",
    "model_3_drop.compile(loss='categorical_crossentropy', optimizer=optimizers.Adam(lr=0.001), metrics=['accuracy'])\n",
    "\n",
    "history = model_3_drop.fit(x=[X_train[:, 0], X_train[:, 1], X_train[:, 2], X_train[:, 3]], y=y_train_encoded_onehot,\n",
    "                    batch_size=64, epochs=20,\n",
    "                    validation_split=0.2)"
   ]
  },
  {
   "cell_type": "code",
   "execution_count": 830,
   "metadata": {},
   "outputs": [
    {
     "name": "stdout",
     "output_type": "stream",
     "text": [
      "6629/6629 [==============================] - 13s 2ms/step\n",
      "Predicted labels: ['Low' 'Low' 'Low' ... 'Low' 'Low' 'Low']\n",
      "True labels: ['Low' 'Low' 'Low' ... 'Low' 'Low' 'Low']\n",
      "Accuracy: 0.8935077793493635\n",
      "              precision    recall  f1-score   support\n",
      "\n",
      "        High       0.75      0.61      0.67      4817\n",
      "         Low       0.93      0.96      0.94    166534\n",
      "      Medium       0.75      0.67      0.71     40749\n",
      "\n",
      "    accuracy                           0.89    212100\n",
      "   macro avg       0.81      0.75      0.77    212100\n",
      "weighted avg       0.89      0.89      0.89    212100\n",
      "\n"
     ]
    }
   ],
   "source": [
    "y_pred_original_train,y_train_original,accuracy,report = performance_results(model_3_drop,[X_train[:, 0], X_train[:, 1], X_train[:, 2], X_train[:, 3]],y_train_encoded)\n",
    "# Print the prediction results and accuracy\n",
    "print(\"Predicted labels:\", y_pred_original_train)\n",
    "print(\"True labels:\", y_train_original)\n",
    "print(\"Accuracy:\", accuracy)\n",
    "print(report)"
   ]
  },
  {
   "cell_type": "code",
   "execution_count": 831,
   "metadata": {},
   "outputs": [
    {
     "name": "stdout",
     "output_type": "stream",
     "text": [
      "1599/1599 [==============================] - 3s 2ms/step\n",
      "Predicted labels: ['Low' 'Low' 'Low' ... 'Medium' 'Low' 'Low']\n",
      "True labels: ['Low' 'Low' 'Low' ... 'Low' 'Low' 'Low']\n",
      "Accuracy: 0.8160308179667182\n",
      "              precision    recall  f1-score   support\n",
      "\n",
      "        High       0.27      0.68      0.39       298\n",
      "         Low       0.95      0.85      0.90     45194\n",
      "      Medium       0.31      0.54      0.40      5647\n",
      "\n",
      "    accuracy                           0.82     51139\n",
      "   macro avg       0.51      0.69      0.56     51139\n",
      "weighted avg       0.87      0.82      0.84     51139\n",
      "\n"
     ]
    }
   ],
   "source": [
    "y_pred_original_test,y_test_original,accuracy,report = performance_results(model_3_drop,[X_test[:, 0], X_test[:, 1], X_test[:, 2], X_test[:, 3]],y_test_encoded)\n",
    "# Print the prediction results and accuracy\n",
    "print(\"Predicted labels:\", y_pred_original_test)\n",
    "print(\"True labels:\", y_test_original)\n",
    "print(\"Accuracy:\", accuracy)\n",
    "print(report)"
   ]
  },
  {
   "attachments": {},
   "cell_type": "markdown",
   "metadata": {},
   "source": [
    "adding text"
   ]
  },
  {
   "cell_type": "code",
   "execution_count": 901,
   "metadata": {},
   "outputs": [],
   "source": [
    "train['Description_Cleaned'] = normalize_corpus(train['Description'])\n",
    "test['Description_Cleaned'] = normalize_corpus(test['Description'])"
   ]
  },
  {
   "cell_type": "code",
   "execution_count": 902,
   "metadata": {},
   "outputs": [],
   "source": [
    "max_sequence_length =  df['Description'].str.len().max()  # Maximum length of the item description sequence\n",
    "\n",
    "tokenizer = Tokenizer()\n",
    "tokenizer.fit_on_texts(train['Description_Cleaned'].values)\n",
    "train_sequences = tokenizer.texts_to_sequences(train['Description_Cleaned'].values)\n",
    "test_sequences = tokenizer.texts_to_sequences(test['Description_Cleaned'].values)\n",
    "\n",
    "train_sequences = pad_sequences(train_sequences, maxlen=max_sequence_length)\n",
    "test_sequences = pad_sequences(test_sequences, maxlen=max_sequence_length)"
   ]
  },
  {
   "cell_type": "code",
   "execution_count": 903,
   "metadata": {},
   "outputs": [],
   "source": [
    "import pickle\n",
    "\n",
    "# Save tokenizer\n",
    "with open('../encoder/text_tokenizer_1.pkl', 'wb') as f:\n",
    "    pickle.dump(tokenizer, f)"
   ]
  },
  {
   "cell_type": "code",
   "execution_count": 918,
   "metadata": {},
   "outputs": [],
   "source": [
    "from keras.layers import Dropout\n",
    "\n",
    "emb_sz = 100\n",
    "\n",
    "# User embeddings\n",
    "user = layers.Input(shape=(1,), name='user_id')\n",
    "user_emb = layers.Embedding(n_users, emb_sz, embeddings_regularizer=regularizers.l2(1e-6), name='user_embedding_LUT')(user)\n",
    "user_emb = layers.Reshape((emb_sz,))(user_emb)\n",
    "user_emb = Dropout(0.2)(user_emb)  # Adding dropout\n",
    "\n",
    "# User bias\n",
    "user_bias = layers.Embedding(n_users, 1)(user)\n",
    "user_bias = layers.Reshape((1,))(user_bias)\n",
    "\n",
    "# Item embeddings\n",
    "item = layers.Input(shape=(1,), name='item_id')\n",
    "item_emb = layers.Embedding(n_items, emb_sz, embeddings_regularizer=regularizers.l2(1e-6), name='item_embedding_LUT')(item)\n",
    "item_emb = layers.Reshape((emb_sz,))(item_emb)\n",
    "item_emb = Dropout(0.2)(item_emb)  # Adding dropout\n",
    "\n",
    "# Item bias\n",
    "item_bias = layers.Embedding(n_items, 1)(item)\n",
    "item_bias = layers.Reshape((1,))(item_bias)\n",
    "\n",
    "# Other features\n",
    "total_quantity = Input(shape=(1,))\n",
    "total_price = Input(shape=(1,))\n",
    "total_quantity_dp = Dropout(0.2)(total_quantity)  # Adding dropout\n",
    "total_price_dp = Dropout(0.2)(total_price)  # Adding dropout\n",
    "\n",
    "#description\n",
    "description_input = Input(shape=(max_sequence_length,))\n",
    "description_embedding = Embedding(input_dim=len(tokenizer.word_index) + 1, output_dim=32)(description_input)\n",
    "description_flatten = Flatten()(description_embedding)\n",
    "description_dp = Dropout(0.4)(description_flatten)  # Adding dropout\n",
    "\n",
    "# Dot product\n",
    "relevancy = layers.Concatenate()([user_emb, item_emb, total_quantity_dp, total_price_dp,description_dp, user_bias, item_bias])\n",
    "\n",
    "# Add biases\n",
    "relevancy = layers.Dense(100, activation='relu')(relevancy)\n",
    "relevancy = Dropout(0.2)(relevancy)  # Adding dropout\n",
    "relevancy = layers.Dense(3, activation='softmax', name='relevancy')(relevancy)\n",
    "\n",
    "# Model\n",
    "model_3_text_drop_new = models.Model(inputs=[user, item, total_quantity, total_price,description_input], outputs=relevancy)\n"
   ]
  },
  {
   "cell_type": "code",
   "execution_count": 919,
   "metadata": {},
   "outputs": [
    {
     "name": "stdout",
     "output_type": "stream",
     "text": [
      "Epoch 1/20\n"
     ]
    },
    {
     "name": "stderr",
     "output_type": "stream",
     "text": [
      "c:\\Users\\HasEAhmed\\Anaconda3\\lib\\site-packages\\keras\\optimizers\\optimizer_v2\\adam.py:110: UserWarning: The `lr` argument is deprecated, use `learning_rate` instead.\n",
      "  super(Adam, self).__init__(name, **kwargs)\n"
     ]
    },
    {
     "name": "stdout",
     "output_type": "stream",
     "text": [
      "1236/1236 [==============================] - 11s 8ms/step - loss: 0.5370 - accuracy: 0.8340 - val_loss: 0.3832 - val_accuracy: 0.8487\n",
      "Epoch 2/20\n",
      "1236/1236 [==============================] - 9s 7ms/step - loss: 0.3831 - accuracy: 0.8602 - val_loss: 0.3507 - val_accuracy: 0.8534\n",
      "Epoch 3/20\n",
      "1236/1236 [==============================] - 9s 7ms/step - loss: 0.3564 - accuracy: 0.8675 - val_loss: 0.3425 - val_accuracy: 0.8569\n",
      "Epoch 4/20\n",
      "1236/1236 [==============================] - 9s 7ms/step - loss: 0.3262 - accuracy: 0.8738 - val_loss: 0.3549 - val_accuracy: 0.8554\n",
      "Epoch 5/20\n",
      "1236/1236 [==============================] - 9s 7ms/step - loss: 0.3239 - accuracy: 0.8764 - val_loss: 0.3338 - val_accuracy: 0.8605\n",
      "Epoch 6/20\n",
      "1236/1236 [==============================] - 9s 7ms/step - loss: 0.3094 - accuracy: 0.8797 - val_loss: 0.3283 - val_accuracy: 0.8612\n",
      "Epoch 7/20\n",
      "1236/1236 [==============================] - 9s 7ms/step - loss: 0.2979 - accuracy: 0.8836 - val_loss: 0.3340 - val_accuracy: 0.8590\n",
      "Epoch 8/20\n",
      "1236/1236 [==============================] - 9s 7ms/step - loss: 0.2931 - accuracy: 0.8874 - val_loss: 0.3279 - val_accuracy: 0.8625\n",
      "Epoch 9/20\n",
      "1236/1236 [==============================] - 9s 7ms/step - loss: 0.2808 - accuracy: 0.8900 - val_loss: 0.3246 - val_accuracy: 0.8641\n",
      "Epoch 10/20\n",
      "1236/1236 [==============================] - 9s 7ms/step - loss: 0.2759 - accuracy: 0.8912 - val_loss: 0.3307 - val_accuracy: 0.8583\n",
      "Epoch 11/20\n",
      "1236/1236 [==============================] - 9s 8ms/step - loss: 0.2710 - accuracy: 0.8935 - val_loss: 0.3327 - val_accuracy: 0.8593\n",
      "Epoch 12/20\n",
      "1236/1236 [==============================] - 9s 7ms/step - loss: 0.2688 - accuracy: 0.8958 - val_loss: 0.3273 - val_accuracy: 0.8599\n",
      "Epoch 13/20\n",
      "1236/1236 [==============================] - 9s 8ms/step - loss: 0.2669 - accuracy: 0.8977 - val_loss: 0.3359 - val_accuracy: 0.8591\n",
      "Epoch 14/20\n",
      "1236/1236 [==============================] - 9s 8ms/step - loss: 0.2630 - accuracy: 0.8986 - val_loss: 0.3351 - val_accuracy: 0.8614\n"
     ]
    }
   ],
   "source": [
    "# Compile the model\n",
    "early_stopping = callbacks.EarlyStopping(monitor='val_loss', patience=5)\n",
    "model_3_text_drop_new.compile(loss='categorical_crossentropy', optimizer=optimizers.Adam(lr=0.001), metrics=['accuracy'])\n",
    "\n",
    "history = model_3_text_drop_new.fit(x=[X_train[:, 0], X_train[:, 1], X_train[:, 2], X_train[:, 3],train_sequences], y=y_train_encoded_onehot,\n",
    "                    batch_size=128, epochs=20,\n",
    "                    validation_split=0.2,\n",
    "                    callbacks=[early_stopping])"
   ]
  },
  {
   "cell_type": "code",
   "execution_count": 920,
   "metadata": {},
   "outputs": [
    {
     "name": "stdout",
     "output_type": "stream",
     "text": [
      "6180/6180 [==============================] - 10s 2ms/step\n",
      "Predicted labels: ['Low' 'Low' 'Low' ... 'Low' 'Medium' 'Low']\n",
      "True labels: ['Low' 'Low' 'Low' ... 'Low' 'Medium' 'Low']\n",
      "Accuracy: 0.8984438611663202\n",
      "              precision    recall  f1-score   support\n",
      "\n",
      "        High       0.75      0.67      0.71      4140\n",
      "         Low       0.92      0.97      0.94    156065\n",
      "      Medium       0.80      0.62      0.70     37528\n",
      "\n",
      "    accuracy                           0.90    197733\n",
      "   macro avg       0.82      0.75      0.78    197733\n",
      "weighted avg       0.89      0.90      0.89    197733\n",
      "\n"
     ]
    }
   ],
   "source": [
    "y_pred_original_train,y_train_original,accuracy,report = performance_results(model_3_text_drop_new,[X_train[:, 0], X_train[:, 1], X_train[:, 2], X_train[:, 3],train_sequences],y_train_encoded)\n",
    "# Print the prediction results and accuracy\n",
    "print(\"Predicted labels:\", y_pred_original_train)\n",
    "print(\"True labels:\", y_train_original)\n",
    "print(\"Accuracy:\", accuracy)\n",
    "print(report)"
   ]
  },
  {
   "cell_type": "code",
   "execution_count": 921,
   "metadata": {},
   "outputs": [
    {
     "name": "stdout",
     "output_type": "stream",
     "text": [
      "2972/2972 [==============================] - 4s 1ms/step\n",
      "Predicted labels: ['Low' 'Low' 'Low' ... 'Medium' 'High' 'Low']\n",
      "True labels: ['Low' 'Low' 'Low' ... 'Medium' 'High' 'Low']\n",
      "Accuracy: 0.8524710830704522\n",
      "              precision    recall  f1-score   support\n",
      "\n",
      "        High       0.31      0.34      0.33       869\n",
      "         Low       0.92      0.92      0.92     81687\n",
      "      Medium       0.45      0.43      0.44     12544\n",
      "\n",
      "    accuracy                           0.85     95100\n",
      "   macro avg       0.56      0.56      0.56     95100\n",
      "weighted avg       0.85      0.85      0.85     95100\n",
      "\n"
     ]
    }
   ],
   "source": [
    "y_pred_original_test,y_test_original,accuracy,report = performance_results(model_3_text_drop_new,[X_test[:, 0], X_test[:, 1], X_test[:, 2], X_test[:, 3],test_sequences],y_test_encoded)\n",
    "# Print the prediction results and accuracy\n",
    "print(\"Predicted labels:\", y_pred_original_test)\n",
    "print(\"True labels:\", y_test_original)\n",
    "print(\"Accuracy:\", accuracy)\n",
    "print(report)"
   ]
  },
  {
   "cell_type": "code",
   "execution_count": 922,
   "metadata": {},
   "outputs": [
    {
     "data": {
      "image/png": "[encoded data removed]",
      "text/plain": [
       "<Figure size 640x480 with 1 Axes>"
      ]
     },
     "metadata": {},
     "output_type": "display_data"
    }
   ],
   "source": [
    "loss = history.history['loss']\n",
    "val_loss = history.history['val_loss']\n",
    "\n",
    "epochs = range(1, len(loss) + 1)\n",
    "\n",
    "# \"bo\" is for \"blue dot\"\n",
    "plt.plot(epochs, loss, 'b', label='Training loss')\n",
    "# b is for \"solid blue line\"\n",
    "plt.plot(epochs, val_loss, 'r', label='Validation loss')\n",
    "plt.title('Training and validation loss')\n",
    "plt.xlabel('Epochs')\n",
    "plt.ylabel('Loss')\n",
    "plt.legend()\n",
    "\n",
    "plt.show()\n"
   ]
  },
  {
   "cell_type": "code",
   "execution_count": 923,
   "metadata": {},
   "outputs": [
    {
     "data": {
      "image/png": "[encoded data removed]",
      "text/plain": [
       "<Figure size 640x480 with 1 Axes>"
      ]
     },
     "metadata": {},
     "output_type": "display_data"
    }
   ],
   "source": [
    "\n",
    "plt.clf()   # clear figure\n",
    "acc_values = history.history['accuracy']\n",
    "val_acc_values = history.history['val_accuracy']\n",
    "\n",
    "plt.plot(epochs, acc_values, 'b', label='Training acc')\n",
    "plt.plot(epochs, val_acc_values, 'r', label='Validation acc')\n",
    "plt.title('Training and validation accuracy')\n",
    "plt.xlabel('Epochs')\n",
    "plt.ylabel('Loss')\n",
    "plt.legend()\n",
    "\n",
    "plt.show()"
   ]
  },
  {
   "cell_type": "code",
   "execution_count": 924,
   "metadata": {},
   "outputs": [],
   "source": [
    "model_3_text_drop_new.save('../models/model_3_text_drop.h5')"
   ]
  },
  {
   "cell_type": "code",
   "execution_count": 925,
   "metadata": {},
   "outputs": [
    {
     "name": "stdout",
     "output_type": "stream",
     "text": [
      "Model: \"model_54\"\n",
      "__________________________________________________________________________________________________\n",
      " Layer (type)                   Output Shape         Param #     Connected to                     \n",
      "==================================================================================================\n",
      " user_id (InputLayer)           [(None, 1)]          0           []                               \n",
      "                                                                                                  \n",
      " item_id (InputLayer)           [(None, 1)]          0           []                               \n",
      "                                                                                                  \n",
      " input_82 (InputLayer)          [(None, 35)]         0           []                               \n",
      "                                                                                                  \n",
      " user_embedding_LUT (Embedding)  (None, 1, 100)      433600      ['user_id[0][0]']                \n",
      "                                                                                                  \n",
      " item_embedding_LUT (Embedding)  (None, 1, 100)      366100      ['item_id[0][0]']                \n",
      "                                                                                                  \n",
      " embedding_90 (Embedding)       (None, 35, 32)       63840       ['input_82[0][0]']               \n",
      "                                                                                                  \n",
      " reshape_181 (Reshape)          (None, 100)          0           ['user_embedding_LUT[0][0]']     \n",
      "                                                                                                  \n",
      " reshape_183 (Reshape)          (None, 100)          0           ['item_embedding_LUT[0][0]']     \n",
      "                                                                                                  \n",
      " input_80 (InputLayer)          [(None, 1)]          0           []                               \n",
      "                                                                                                  \n",
      " input_81 (InputLayer)          [(None, 1)]          0           []                               \n",
      "                                                                                                  \n",
      " flatten_15 (Flatten)           (None, 1120)         0           ['embedding_90[0][0]']           \n",
      "                                                                                                  \n",
      " embedding_88 (Embedding)       (None, 1, 1)         4336        ['user_id[0][0]']                \n",
      "                                                                                                  \n",
      " embedding_89 (Embedding)       (None, 1, 1)         3661        ['item_id[0][0]']                \n",
      "                                                                                                  \n",
      " dropout_48 (Dropout)           (None, 100)          0           ['reshape_181[0][0]']            \n",
      "                                                                                                  \n",
      " dropout_49 (Dropout)           (None, 100)          0           ['reshape_183[0][0]']            \n",
      "                                                                                                  \n",
      " dropout_50 (Dropout)           (None, 1)            0           ['input_80[0][0]']               \n",
      "                                                                                                  \n",
      " dropout_51 (Dropout)           (None, 1)            0           ['input_81[0][0]']               \n",
      "                                                                                                  \n",
      " dropout_52 (Dropout)           (None, 1120)         0           ['flatten_15[0][0]']             \n",
      "                                                                                                  \n",
      " reshape_182 (Reshape)          (None, 1)            0           ['embedding_88[0][0]']           \n",
      "                                                                                                  \n",
      " reshape_184 (Reshape)          (None, 1)            0           ['embedding_89[0][0]']           \n",
      "                                                                                                  \n",
      " concatenate_38 (Concatenate)   (None, 1324)         0           ['dropout_48[0][0]',             \n",
      "                                                                  'dropout_49[0][0]',             \n",
      "                                                                  'dropout_50[0][0]',             \n",
      "                                                                  'dropout_51[0][0]',             \n",
      "                                                                  'dropout_52[0][0]',             \n",
      "                                                                  'reshape_182[0][0]',            \n",
      "                                                                  'reshape_184[0][0]']            \n",
      "                                                                                                  \n",
      " dense_61 (Dense)               (None, 100)          132500      ['concatenate_38[0][0]']         \n",
      "                                                                                                  \n",
      " dropout_53 (Dropout)           (None, 100)          0           ['dense_61[0][0]']               \n",
      "                                                                                                  \n",
      " relevancy (Dense)              (None, 3)            303         ['dropout_53[0][0]']             \n",
      "                                                                                                  \n",
      "==================================================================================================\n",
      "Total params: 1,004,340\n",
      "Trainable params: 1,004,340\n",
      "Non-trainable params: 0\n",
      "__________________________________________________________________________________________________\n"
     ]
    }
   ],
   "source": [
    "model_3_text_drop_new.summary()"
   ]
  }
 ],
 "metadata": {
  "kernelspec": {
   "display_name": "base",
   "language": "python",
   "name": "python3"
  },
  "language_info": {
   "codemirror_mode": {
    "name": "ipython",
    "version": 3
   },
   "file_extension": ".py",
   "mimetype": "text/x-python",
   "name": "python",
   "nbconvert_exporter": "python",
   "pygments_lexer": "ipython3",
   "version": "3.9.13"
  },
  "orig_nbformat": 4
 },
 "nbformat": 4,
 "nbformat_minor": 2
}
